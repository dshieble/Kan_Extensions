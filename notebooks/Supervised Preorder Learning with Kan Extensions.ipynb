{
 "cells": [
  {
   "cell_type": "code",
   "execution_count": null,
   "id": "heard-hughes",
   "metadata": {},
   "outputs": [],
   "source": [
    "%matplotlib inline\n",
    "%load_ext autoreload\n",
    "%autoreload 2\n",
    "    \n",
    "import tensorflow as tf\n",
    "import numpy as np\n",
    "import matplotlib.pyplot as plt\n",
    "import seaborn as sns\n",
    "from sklearn.metrics import adjusted_rand_score\n",
    "import numpy as np\n",
    "from sklearn.cluster import AgglomerativeClustering\n",
    "from tqdm import tqdm\n",
    "from sklearn.pipeline import Pipeline\n",
    "from sklearn.decomposition import PCA\n",
    "from sklearn.datasets import load_wine\n",
    "import helpers_preorder as hp\n",
    "import helpers_datasets as hd\n",
    "import pandas as pd\n",
    "\n",
    "\n",
    "plt.style.use(\"seaborn-darkgrid\")\n",
    "\n",
    "included_classes = {0:False, 6:True}\n",
    "X_mnist_train, y_mnist_train_raw, X_mnist_test, y_mnist_test_raw = hd.get_mnist_dataset(\n",
    "    included_classes=included_classes.keys(), num_train_images=-1, num_test_images=-1)\n",
    "y_mnist_train = np.array([included_classes[y] for y in y_mnist_train_raw])\n",
    "y_mnist_test = np.array([included_classes[y] for y in y_mnist_test_raw])"
   ]
  },
  {
   "cell_type": "markdown",
   "id": "wicked-carnival",
   "metadata": {},
   "source": [
    "# Transformed LanK . f and RanK . f Performance"
   ]
  },
  {
   "cell_type": "code",
   "execution_count": null,
   "id": "unavailable-tension",
   "metadata": {},
   "outputs": [],
   "source": [
    "linear_learner = hp.LinearLearner(learning_rate=0.02, num_columns=X_mnist_train.shape[-1], m=20)\n",
    "losses = linear_learner.fit(X_mnist_train, y_mnist_train, epochs=1000, batches_per_epoch=1)\n",
    "plt.plot(losses)\n",
    "plt.show()\n",
    "\n",
    "hp.evaluate(X_mnist_train, y_mnist_train, X_mnist_test, y_mnist_test, f=lambda x: linear_learner.predict(x).numpy())\n"
   ]
  },
  {
   "cell_type": "code",
   "execution_count": null,
   "id": "tough-satellite",
   "metadata": {},
   "outputs": [],
   "source": []
  }
 ],
 "metadata": {
  "kernelspec": {
   "display_name": "base",
   "language": "python",
   "name": "base"
  },
  "language_info": {
   "codemirror_mode": {
    "name": "ipython",
    "version": 3
   },
   "file_extension": ".py",
   "mimetype": "text/x-python",
   "name": "python",
   "nbconvert_exporter": "python",
   "pygments_lexer": "ipython3",
   "version": "3.6.12"
  }
 },
 "nbformat": 4,
 "nbformat_minor": 5
}
