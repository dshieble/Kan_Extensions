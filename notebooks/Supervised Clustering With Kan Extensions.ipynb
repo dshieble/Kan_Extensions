{
 "cells": [
  {
   "cell_type": "code",
   "execution_count": null,
   "id": "heard-hughes",
   "metadata": {},
   "outputs": [],
   "source": [
    "%matplotlib inline\n",
    "%load_ext autoreload\n",
    "%autoreload 2\n",
    "\n",
    "from collections import namedtuple, defaultdict\n",
    "from functools import reduce\n",
    "\n",
    "import numpy as np\n",
    "import random\n",
    "import matplotlib.pyplot as plt\n",
    "from sklearn.metrics import adjusted_rand_score\n",
    "import numpy as np\n",
    "from tqdm import tqdm\n",
    "import matplotlib.colors as mcolors\n",
    "from sklearn.cluster import AgglomerativeClustering\n",
    "from sklearn.metrics import adjusted_rand_score\n",
    "import pandas as pd\n",
    "\n",
    "\n",
    "import helpers_datasets as hd\n",
    "import helpers_clustering as hc\n",
    "\n",
    "Result = namedtuple(\"Result\", \"lan_score ran_score single_linkage_score\")\n",
    "provider = hd.TransformedSampleProvider()"
   ]
  },
  {
   "cell_type": "markdown",
   "id": "a5188f4d",
   "metadata": {},
   "source": [
    "# Run Experiment"
   ]
  },
  {
   "cell_type": "code",
   "execution_count": null,
   "id": "76ca564e",
   "metadata": {},
   "outputs": [],
   "source": [
    "\n",
    "NUM_EXPERIMENTS = 100\n",
    "\n",
    "# results = []\n",
    "for i in range(NUM_EXPERIMENTS):\n",
    "\n",
    "    X_train, y_train, X_test, y_test = provider.get_transformed_sample()\n",
    "    lan_predictions, ran_predictions = hc.get_ran_and_lan_predictions(\n",
    "        X_train=X_train,\n",
    "        y_train=y_train,\n",
    "        X_test=X_test)\n",
    "    single_linkage_predictions = hc.get_hyperopt_single_linkage_predictions(\n",
    "        X_train=X_train,\n",
    "        y_train=y_train,\n",
    "        X_test=X_test)\n",
    "    result = Result(\n",
    "        lan_score=adjusted_rand_score(y_test, lan_predictions),\n",
    "        ran_score=adjusted_rand_score(y_test, ran_predictions),\n",
    "        single_linkage_score=adjusted_rand_score(y_test, single_linkage_predictions),\n",
    "    )\n",
    "    print(result)\n",
    "    results.append(result)\n",
    "    \n",
    "    \n"
   ]
  },
  {
   "cell_type": "code",
   "execution_count": null,
   "id": "e12675cc",
   "metadata": {},
   "outputs": [],
   "source": [
    "ct_ran_beats_slink = len([r for r in results if r.ran_score > r.single_linkage_score])\n",
    "ct_lan_beats_slink = len([r for r in results if r.lan_score > r.single_linkage_score])\n",
    "ct_slink_beats_ran = len([r for r in results if r.ran_score < r.single_linkage_score])\n",
    "ct_slink_beats_lan = len([r for r in results if r.lan_score < r.single_linkage_score])\n",
    "\n",
    "\n",
    "prop_lan_beats_slink = ct_lan_beats_slink / (ct_lan_beats_slink + ct_slink_beats_lan)\n",
    "sem_lan_beats_slink = np.sqrt(\n",
    "    (prop_lan_beats_slink*(1-prop_lan_beats_slink)) / (\n",
    "    ct_lan_beats_slink + ct_slink_beats_lan))\n",
    "print(\"Lan Beats Slink: {} SEM: {}\".format(prop_lan_beats_slink, sem_lan_beats_slink))\n",
    "\n",
    "\n",
    "prop_ran_beats_slink = ct_ran_beats_slink / (ct_ran_beats_slink + ct_slink_beats_ran)\n",
    "sem_ran_beats_slink = np.sqrt(\n",
    "    (prop_ran_beats_slink*(1-prop_ran_beats_slink)) / (\n",
    "    ct_ran_beats_slink + ct_slink_beats_ran))\n",
    "print(\"Ran Beats Slink: {} SEM: {}\".format(prop_ran_beats_slink, sem_ran_beats_slink))"
   ]
  },
  {
   "cell_type": "markdown",
   "id": "2b0af726",
   "metadata": {},
   "source": [
    "# Plot an Example"
   ]
  },
  {
   "cell_type": "code",
   "execution_count": null,
   "id": "fc40153a",
   "metadata": {},
   "outputs": [],
   "source": [
    "COLORS = np.random.permutation(list(mcolors.CSS4_COLORS.values())[1:])\n",
    "\n",
    "def plot_clusters(X, y):\n",
    "    cluster_inds = [i for i, yy in enumerate(y) if yy >= 0]\n",
    "    clusterless_inds = [i for i, yy in enumerate(y) if yy < 0]\n",
    "    plt.scatter(X[cluster_inds, 0], X[cluster_inds, 1], c=[COLORS[y[i]] for i in cluster_inds], marker=\"o\")\n",
    "    if len(clusterless_inds) > 0:\n",
    "        plt.scatter(X[clusterless_inds, 0], X[clusterless_inds, 1], c=\"black\", marker=\"s\")\n",
    "\n",
    "\n",
    "X_train, y_train, X_test, y_test = provider.get_transformed_sample()\n",
    "\n",
    "plt.style.use(\"seaborn-darkgrid\")\n",
    "plt.figure(figsize=(15,8))\n",
    "plt.subplot(1,2,1)\n",
    "plot_clusters(X_train, y_train)\n",
    "plt.subplot(1,2,2)\n",
    "plot_clusters(X_test, y_test)"
   ]
  },
  {
   "cell_type": "code",
   "execution_count": null,
   "id": "pharmaceutical-transfer",
   "metadata": {},
   "outputs": [],
   "source": [
    "X_train, y_train, X_test, y_test = provider.get_transformed_sample()\n",
    "single_linkage_predictions = hc.get_hyperopt_single_linkage_predictions(\n",
    "    X_train=X_train,\n",
    "    y_train=y_train,\n",
    "    X_test=X_test)\n",
    "lan_predictions, ran_predictions = hc.get_ran_and_lan_predictions(\n",
    "    X_train=X_train,\n",
    "    y_train=y_train,\n",
    "    X_test=X_test,\n",
    "    num_cluster_pairs=1)\n",
    "\n",
    "\n",
    "plt.figure(figsize=(15,15))\n",
    "plt.subplot(2,2,1)\n",
    "plt.title(\"Ground Truth \\n Num Unique Clusters: {}\".format(len(set(y_test))))\n",
    "plot_clusters(X_test, y_test)\n",
    "#\n",
    "plt.subplot(2,2,2)\n",
    "plt.title(\"$\\delta$-Single Linkage with Optimal $\\delta$ \\n Num Unique Clusters: {} \\n Adjusted Rand Score with Ground Truth: {}\".format(\n",
    "    len(set(single_linkage_predictions)),\n",
    "    \"{0:.4g}\".format(adjusted_rand_score(y_test, single_linkage_predictions))))\n",
    "plot_clusters(X_test, single_linkage_predictions)\n",
    "#\n",
    "plt.subplot(2,2,3)\n",
    "plt.title(\"$Lan_G K_L(X, d_X)$ \\n Num Unique Clusters: {} \\n Adjusted Rand Score with Ground Truth: {}\".format(\n",
    "    len(set(lan_predictions)),\n",
    "    \"{0:.4g}\".format(adjusted_rand_score(y_test, lan_predictions))))\n",
    "plot_clusters(X_test, lan_predictions)\n",
    "#\n",
    "plt.subplot(2,2,4)\n",
    "plt.title(\"$Ran_G K_R(X, d_X)$ \\n Num Unique Clusters: {} \\n Adjusted Rand Score with Ground Truth: {}\".format(\n",
    "    len(set(ran_predictions)),\n",
    "    \"{0:.4g}\".format(adjusted_rand_score(y_test, ran_predictions))))\n",
    "plot_clusters(X_test, ran_predictions)\n"
   ]
  },
  {
   "cell_type": "code",
   "execution_count": null,
   "id": "51a4b61c",
   "metadata": {},
   "outputs": [],
   "source": []
  },
  {
   "cell_type": "code",
   "execution_count": null,
   "id": "106e0120",
   "metadata": {},
   "outputs": [],
   "source": []
  }
 ],
 "metadata": {
  "kernelspec": {
   "display_name": "Python 3",
   "language": "python",
   "name": "python3"
  },
  "language_info": {
   "codemirror_mode": {
    "name": "ipython",
    "version": 3
   },
   "file_extension": ".py",
   "mimetype": "text/x-python",
   "name": "python",
   "nbconvert_exporter": "python",
   "pygments_lexer": "ipython3",
   "version": "3.6.6"
  },
  "toc": {
   "base_numbering": 1,
   "nav_menu": {},
   "number_sections": false,
   "sideBar": false,
   "skip_h1_title": false,
   "title_cell": "Table of Contents",
   "title_sidebar": "Contents",
   "toc_cell": false,
   "toc_position": {},
   "toc_section_display": false,
   "toc_window_display": false
  }
 },
 "nbformat": 4,
 "nbformat_minor": 5
}
