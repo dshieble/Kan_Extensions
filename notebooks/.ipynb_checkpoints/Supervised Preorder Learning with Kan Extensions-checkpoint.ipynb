{
 "cells": [
  {
   "cell_type": "code",
   "execution_count": null,
   "id": "heard-hughes",
   "metadata": {},
   "outputs": [],
   "source": [
    "%matplotlib inline\n",
    "%load_ext autoreload\n",
    "%autoreload 2\n",
    "    \n",
    "import tensorflow as tf\n",
    "import numpy as np\n",
    "import matplotlib.pyplot as plt\n",
    "import seaborn as sns\n",
    "from sklearn.metrics import adjusted_rand_score\n",
    "import numpy as np\n",
    "from sklearn.cluster import AgglomerativeClustering\n",
    "from tqdm import tqdm\n",
    "from sklearn.pipeline import Pipeline\n",
    "from sklearn.decomposition import PCA\n",
    "import helpers_preorder as hp\n",
    "import helpers_datasets as hd\n",
    "import pandas as pd\n",
    "from scipy.stats import sem\n",
    "\n",
    "plt.style.use(\"seaborn-darkgrid\")\n",
    "\n",
    "\n",
    "###### Tested with Tensorflow==1.15.0 and Numpy==1.17.1 ######\n",
    "print(tf.__version__)\n",
    "print(np.__version__)\n",
    "############################################################\n",
    "\n",
    "tf.enable_eager_execution() # Required for learner execution\n",
    "\n",
    "\n",
    "included_classes = {0:False, 6:True} # Tshirt = 0, Shirt = 6\n",
    "X_mnist_train, y_mnist_train_raw, X_mnist_test, y_mnist_test_raw = hd.get_mnist_dataset(\n",
    "    included_classes=included_classes.keys(), num_train_images=-1, num_test_images=-1)\n",
    "y_mnist_train = np.array([included_classes[y] for y in y_mnist_train_raw])\n",
    "y_mnist_test = np.array([included_classes[y] for y in y_mnist_test_raw])"
   ]
  },
  {
   "cell_type": "markdown",
   "id": "wicked-carnival",
   "metadata": {},
   "source": [
    "# Transformed LanK . f and RanK . f Performance"
   ]
  },
  {
   "cell_type": "code",
   "execution_count": null,
   "id": "5a52312e",
   "metadata": {},
   "outputs": [],
   "source": [
    "TRAINING_SAMPLES_PER_BOOTSTRAP = 9000\n",
    "TESTING_SAMPLES_PER_BOOTSTRAP = 1000\n",
    "OUTPUT_DIMENSION = 10 \n",
    "LEARNING_RATE = 0.02\n",
    "EPOCHS = 1000\n",
    "NUM_EXPERIMENTS = 10\n",
    "\n",
    "def run_bootstrap_experiment():\n",
    "    tr_indices = np.random.permutation(X_mnist_train.shape[0])[:TRAINING_SAMPLES_PER_BOOTSTRAP]\n",
    "    te_indices = np.random.permutation(X_mnist_test.shape[0])[:TESTING_SAMPLES_PER_BOOTSTRAP]\n",
    "    Xtr, ytr = X_mnist_train[tr_indices], y_mnist_train[tr_indices]\n",
    "    Xte, yte = X_mnist_test[te_indices], y_mnist_test[te_indices]\n",
    "\n",
    "    linear_learner = hp.LinearOrderingLossLearner(\n",
    "        learning_rate=LEARNING_RATE,\n",
    "        output_dimension=OUTPUT_DIMENSION,\n",
    "        num_columns=X_mnist_train.shape[-1])\n",
    "    losses = linear_learner.fit(Xtr, ytr, epochs=EPOCHS, batches_per_epoch=1)\n",
    "    evaluation_kwargs = {\n",
    "        \"X_train\": Xtr, \"y_train\": ytr, \"X_test\": Xte, \"y_test\": yte,\n",
    "        \"f\": lambda x: linear_learner.predict(x).numpy()\n",
    "    }\n",
    "    evaluation_results = {}\n",
    "    for classifier_class in [hp.RanPreorderClassifier, hp.LanPreorderClassifier]:\n",
    "        evaluation_results[classifier_class.kind] = hp.evaluate(\n",
    "            classifier_class=classifier_class, **evaluation_kwargs)\n",
    "    return evaluation_results\n",
    "\n",
    "\n",
    "results_list = []\n",
    "for i in range(NUM_EXPERIMENTS):\n",
    "    result = run_bootstrap_experiment()\n",
    "    print(result)\n",
    "    results_list.append(result)\n",
    "\n",
    "    \n",
    "df_dict = {}\n",
    "for kind in [\"ran\", \"lan\"]:\n",
    "    for metric in [\"train_tpr\", \"train_tnr\", \"test_tpr\", \"test_tnr\"]:\n",
    "        values = [getattr(r[kind], metric) for r in results_list]\n",
    "        df_dict[\"{}_{}\".format(kind, metric)] = {\"mean\": np.mean(values), \"standard_error\": 2*sem(values)}\n",
    "pd.DataFrame(df_dict).T\n"
   ]
  },
  {
   "cell_type": "code",
   "execution_count": null,
   "id": "765ccb63",
   "metadata": {},
   "outputs": [],
   "source": []
  }
 ],
 "metadata": {
  "kernelspec": {
   "display_name": "Python 3 (ipykernel)",
   "language": "python",
   "name": "python3"
  },
  "language_info": {
   "codemirror_mode": {
    "name": "ipython",
    "version": 3
   },
   "file_extension": ".py",
   "mimetype": "text/x-python",
   "name": "python",
   "nbconvert_exporter": "python",
   "pygments_lexer": "ipython3",
   "version": "3.8.13"
  },
  "toc": {
   "base_numbering": 1,
   "nav_menu": {},
   "number_sections": false,
   "sideBar": false,
   "skip_h1_title": false,
   "title_cell": "Table of Contents",
   "title_sidebar": "Contents",
   "toc_cell": false,
   "toc_position": {},
   "toc_section_display": false,
   "toc_window_display": false
  }
 },
 "nbformat": 4,
 "nbformat_minor": 5
}
