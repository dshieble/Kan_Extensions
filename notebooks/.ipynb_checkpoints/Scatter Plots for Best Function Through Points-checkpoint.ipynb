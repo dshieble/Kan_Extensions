{
 "cells": [
  {
   "cell_type": "code",
   "execution_count": null,
   "id": "heard-hughes",
   "metadata": {},
   "outputs": [],
   "source": [
    "%matplotlib inline\n",
    "\n",
    "import numpy as np\n",
    "import matplotlib.pyplot as plt\n",
    "import seaborn as sns\n",
    "import numpy as np\n",
    "from tqdm import tqdm\n",
    "from scipy.interpolate import lagrange\n",
    "import sympy\n",
    "import math\n",
    "from operator import mul\n",
    "plt.style.use(\"seaborn-darkgrid\")\n",
    "\n",
    "def get_equation(p1, p2):\n",
    "    slope = (p2[1] - p1[1]) / (p2[0] - p1[0])\n",
    "    intercept =  p2[1] - slope*p2[0] \n",
    "    return lambda x: slope*x + intercept\n",
    "\n"
   ]
  },
  {
   "cell_type": "code",
   "execution_count": null,
   "id": "numerical-improvement",
   "metadata": {},
   "outputs": [],
   "source": [
    "\"\"\"\n",
    "If the Kan extension exists, it is the line that minimizes the distance to all of the other points given that\n",
    "    it is larger than all of the points. If the Kan extension doesn't exist there may still be a line that satisfies\n",
    "    this property though (this will mean that there is some other line that runs through the points)\n",
    "\"\"\"\n",
    "\n",
    "plt.figure(figsize=(12, 6))\n",
    "\n",
    "\n",
    "plt.subplot(1,2,1)\n",
    "plt.title(\"Example Where Only Left Kan Extension Exists\")\n",
    "x1 = [1, 2, 3, 4, 5]\n",
    "y1 = [5, 4, 2, 6, 7]\n",
    "l1 = get_equation((x1[0], y1[0]), (x1[4], y1[4]))\n",
    "p1 = lagrange(x1, y1)\n",
    "xpts1 = np.linspace(x1[0]-.1,x1[-1]+.1, 100)\n",
    "plt.scatter(x1, y1)\n",
    "plt.plot(xpts1, [l1(xx) for xx in xpts1], label=\"$Lan_G K(g)$\")\n",
    "plt.plot(xpts1, [p1(xx) for xx in xpts1], label=\"$g$\")\n",
    "plt.legend()\n",
    "\n",
    "\n",
    "plt.subplot(1,2,2)\n",
    "plt.title(\"Example Where Only Right Kan Extension Exists\")\n",
    "x2 = [-1, -2, -3, -4, -5]\n",
    "y2 = [-5, -4, -2, -6, -7]\n",
    "l2 = get_equation((x2[0], y2[0]), (x2[4], y2[4]))\n",
    "p2 = lagrange(x2, y2)\n",
    "xpts2 = np.linspace(x2[0]+.1,x2[-1]-.1, 100)\n",
    "plt.scatter(x2, y2)\n",
    "plt.plot(xpts2, [l2(xx) for xx in xpts2], label=\"$Ran_G K(g)$\")\n",
    "plt.plot(xpts2, [p2(xx) for xx in xpts2], label=\"$g$\")\n",
    "plt.legend()\n"
   ]
  }
 ],
 "metadata": {
  "kernelspec": {
   "display_name": "Python 3",
   "language": "python",
   "name": "python3"
  },
  "language_info": {
   "codemirror_mode": {
    "name": "ipython",
    "version": 3
   },
   "file_extension": ".py",
   "mimetype": "text/x-python",
   "name": "python",
   "nbconvert_exporter": "python",
   "pygments_lexer": "ipython3",
   "version": "3.8.2"
  }
 },
 "nbformat": 4,
 "nbformat_minor": 5
}
